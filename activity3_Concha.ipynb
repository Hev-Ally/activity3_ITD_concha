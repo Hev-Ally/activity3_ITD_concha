{
 "cells": [
  {
   "cell_type": "code",
   "execution_count": 84,
   "id": "39abdbdb-0d0c-4894-9101-d4cbeb0b6a0b",
   "metadata": {},
   "outputs": [],
   "source": [
    "import pandas as pd\n",
    "import numpy as np\n",
    "import matplotlib.pyplot as plt\n",
    "import seaborn as sns\n",
    "from scipy.stats import f_oneway\n",
    "import warnings\n",
    "warnings.filterwarnings('ignore')"
   ]
  },
  {
   "cell_type": "markdown",
   "id": "bf3a7a14-4f73-403b-af6f-a25bd1e4e742",
   "metadata": {},
   "source": [
    "<h1>UK ROAD ACCIDENT DATA ANALYSIS</h1>\n",
    "<h2>INCLUSIVE YEAR 2019 - 2022</h2>\n",
    "<h3>Analyst: Concha, Vaughn Allystair P.</h3>"
   ]
  },
  {
   "cell_type": "code",
   "execution_count": 85,
   "id": "d3a73f89-0e72-4dcd-8732-94453473b44b",
   "metadata": {},
   "outputs": [],
   "source": [
    "accident = pd.read_csv(\"datasets//accident_data.csv\")"
   ]
  },
  {
   "cell_type": "code",
   "execution_count": 86,
   "id": "2c8a2a4c-43b0-4760-94c2-a67b914f8236",
   "metadata": {},
   "outputs": [
    {
     "data": {
      "text/html": [
       "<div>\n",
       "<style scoped>\n",
       "    .dataframe tbody tr th:only-of-type {\n",
       "        vertical-align: middle;\n",
       "    }\n",
       "\n",
       "    .dataframe tbody tr th {\n",
       "        vertical-align: top;\n",
       "    }\n",
       "\n",
       "    .dataframe thead th {\n",
       "        text-align: right;\n",
       "    }\n",
       "</style>\n",
       "<table border=\"1\" class=\"dataframe\">\n",
       "  <thead>\n",
       "    <tr style=\"text-align: right;\">\n",
       "      <th></th>\n",
       "      <th>Index</th>\n",
       "      <th>Accident_Severity</th>\n",
       "      <th>Accident Date</th>\n",
       "      <th>Latitude</th>\n",
       "      <th>Light_Conditions</th>\n",
       "      <th>District Area</th>\n",
       "      <th>Longitude</th>\n",
       "      <th>Number_of_Casualties</th>\n",
       "      <th>Number_of_Vehicles</th>\n",
       "      <th>Road_Surface_Conditions</th>\n",
       "      <th>Road_Type</th>\n",
       "      <th>Urban_or_Rural_Area</th>\n",
       "      <th>Weather_Conditions</th>\n",
       "      <th>Vehicle_Type</th>\n",
       "    </tr>\n",
       "  </thead>\n",
       "  <tbody>\n",
       "    <tr>\n",
       "      <th>0</th>\n",
       "      <td>200701BS64157</td>\n",
       "      <td>Serious</td>\n",
       "      <td>5/6/2019</td>\n",
       "      <td>51.506187</td>\n",
       "      <td>Darkness - lights lit</td>\n",
       "      <td>Kensington and Chelsea</td>\n",
       "      <td>-0.209082</td>\n",
       "      <td>1</td>\n",
       "      <td>2</td>\n",
       "      <td>Dry</td>\n",
       "      <td>Single carriageway</td>\n",
       "      <td>Urban</td>\n",
       "      <td>Fine no high winds</td>\n",
       "      <td>Car</td>\n",
       "    </tr>\n",
       "    <tr>\n",
       "      <th>1</th>\n",
       "      <td>200701BS65737</td>\n",
       "      <td>Serious</td>\n",
       "      <td>2/7/2019</td>\n",
       "      <td>51.495029</td>\n",
       "      <td>Daylight</td>\n",
       "      <td>Kensington and Chelsea</td>\n",
       "      <td>-0.173647</td>\n",
       "      <td>1</td>\n",
       "      <td>2</td>\n",
       "      <td>Wet or damp</td>\n",
       "      <td>Single carriageway</td>\n",
       "      <td>Urban</td>\n",
       "      <td>Raining no high winds</td>\n",
       "      <td>Car</td>\n",
       "    </tr>\n",
       "    <tr>\n",
       "      <th>2</th>\n",
       "      <td>200701BS66127</td>\n",
       "      <td>Serious</td>\n",
       "      <td>26-08-2019</td>\n",
       "      <td>51.517715</td>\n",
       "      <td>Darkness - lighting unknown</td>\n",
       "      <td>Kensington and Chelsea</td>\n",
       "      <td>-0.210215</td>\n",
       "      <td>1</td>\n",
       "      <td>3</td>\n",
       "      <td>Dry</td>\n",
       "      <td>NaN</td>\n",
       "      <td>Urban</td>\n",
       "      <td>NaN</td>\n",
       "      <td>Taxi/Private hire car</td>\n",
       "    </tr>\n",
       "    <tr>\n",
       "      <th>3</th>\n",
       "      <td>200701BS66128</td>\n",
       "      <td>Serious</td>\n",
       "      <td>16-08-2019</td>\n",
       "      <td>51.495478</td>\n",
       "      <td>Daylight</td>\n",
       "      <td>Kensington and Chelsea</td>\n",
       "      <td>-0.202731</td>\n",
       "      <td>1</td>\n",
       "      <td>4</td>\n",
       "      <td>Dry</td>\n",
       "      <td>Single carriageway</td>\n",
       "      <td>Urban</td>\n",
       "      <td>Fine no high winds</td>\n",
       "      <td>Bus or coach (17 or more pass seats)</td>\n",
       "    </tr>\n",
       "    <tr>\n",
       "      <th>4</th>\n",
       "      <td>200701BS66837</td>\n",
       "      <td>Slight</td>\n",
       "      <td>3/9/2019</td>\n",
       "      <td>51.488576</td>\n",
       "      <td>Darkness - lights lit</td>\n",
       "      <td>Kensington and Chelsea</td>\n",
       "      <td>-0.192487</td>\n",
       "      <td>1</td>\n",
       "      <td>2</td>\n",
       "      <td>Dry</td>\n",
       "      <td>NaN</td>\n",
       "      <td>Urban</td>\n",
       "      <td>NaN</td>\n",
       "      <td>Other vehicle</td>\n",
       "    </tr>\n",
       "    <tr>\n",
       "      <th>...</th>\n",
       "      <td>...</td>\n",
       "      <td>...</td>\n",
       "      <td>...</td>\n",
       "      <td>...</td>\n",
       "      <td>...</td>\n",
       "      <td>...</td>\n",
       "      <td>...</td>\n",
       "      <td>...</td>\n",
       "      <td>...</td>\n",
       "      <td>...</td>\n",
       "      <td>...</td>\n",
       "      <td>...</td>\n",
       "      <td>...</td>\n",
       "      <td>...</td>\n",
       "    </tr>\n",
       "    <tr>\n",
       "      <th>660674</th>\n",
       "      <td>201091NM01760</td>\n",
       "      <td>Slight</td>\n",
       "      <td>18-02-2022</td>\n",
       "      <td>57.374005</td>\n",
       "      <td>Daylight</td>\n",
       "      <td>Highland</td>\n",
       "      <td>-3.467828</td>\n",
       "      <td>2</td>\n",
       "      <td>1</td>\n",
       "      <td>Dry</td>\n",
       "      <td>Single carriageway</td>\n",
       "      <td>Rural</td>\n",
       "      <td>Fine no high winds</td>\n",
       "      <td>Car</td>\n",
       "    </tr>\n",
       "    <tr>\n",
       "      <th>660675</th>\n",
       "      <td>201091NM01881</td>\n",
       "      <td>Slight</td>\n",
       "      <td>21-02-2022</td>\n",
       "      <td>57.232273</td>\n",
       "      <td>Darkness - no lighting</td>\n",
       "      <td>Highland</td>\n",
       "      <td>-3.809281</td>\n",
       "      <td>1</td>\n",
       "      <td>1</td>\n",
       "      <td>Frost or ice</td>\n",
       "      <td>Single carriageway</td>\n",
       "      <td>Rural</td>\n",
       "      <td>Fine no high winds</td>\n",
       "      <td>Car</td>\n",
       "    </tr>\n",
       "    <tr>\n",
       "      <th>660676</th>\n",
       "      <td>201091NM01935</td>\n",
       "      <td>Slight</td>\n",
       "      <td>23-02-2022</td>\n",
       "      <td>57.585044</td>\n",
       "      <td>Daylight</td>\n",
       "      <td>Highland</td>\n",
       "      <td>-3.862727</td>\n",
       "      <td>1</td>\n",
       "      <td>3</td>\n",
       "      <td>Frost or ice</td>\n",
       "      <td>Single carriageway</td>\n",
       "      <td>Rural</td>\n",
       "      <td>Fine no high winds</td>\n",
       "      <td>Car</td>\n",
       "    </tr>\n",
       "    <tr>\n",
       "      <th>660677</th>\n",
       "      <td>201091NM01964</td>\n",
       "      <td>Serious</td>\n",
       "      <td>23-02-2022</td>\n",
       "      <td>57.214898</td>\n",
       "      <td>Darkness - no lighting</td>\n",
       "      <td>Highland</td>\n",
       "      <td>-3.823997</td>\n",
       "      <td>1</td>\n",
       "      <td>2</td>\n",
       "      <td>Wet or damp</td>\n",
       "      <td>Single carriageway</td>\n",
       "      <td>Rural</td>\n",
       "      <td>Fine no high winds</td>\n",
       "      <td>Motorcycle over 500cc</td>\n",
       "    </tr>\n",
       "    <tr>\n",
       "      <th>660678</th>\n",
       "      <td>201091NM02142</td>\n",
       "      <td>Serious</td>\n",
       "      <td>28-02-2022</td>\n",
       "      <td>57.575210</td>\n",
       "      <td>Daylight</td>\n",
       "      <td>Highland</td>\n",
       "      <td>-3.895673</td>\n",
       "      <td>1</td>\n",
       "      <td>1</td>\n",
       "      <td>Wet or damp</td>\n",
       "      <td>Dual carriageway</td>\n",
       "      <td>Rural</td>\n",
       "      <td>Snowing no high winds</td>\n",
       "      <td>Car</td>\n",
       "    </tr>\n",
       "  </tbody>\n",
       "</table>\n",
       "<p>660679 rows × 14 columns</p>\n",
       "</div>"
      ],
      "text/plain": [
       "                Index Accident_Severity Accident Date   Latitude  \\\n",
       "0       200701BS64157           Serious      5/6/2019  51.506187   \n",
       "1       200701BS65737           Serious      2/7/2019  51.495029   \n",
       "2       200701BS66127           Serious    26-08-2019  51.517715   \n",
       "3       200701BS66128           Serious    16-08-2019  51.495478   \n",
       "4       200701BS66837            Slight      3/9/2019  51.488576   \n",
       "...               ...               ...           ...        ...   \n",
       "660674  201091NM01760            Slight    18-02-2022  57.374005   \n",
       "660675  201091NM01881            Slight    21-02-2022  57.232273   \n",
       "660676  201091NM01935            Slight    23-02-2022  57.585044   \n",
       "660677  201091NM01964           Serious    23-02-2022  57.214898   \n",
       "660678  201091NM02142           Serious    28-02-2022  57.575210   \n",
       "\n",
       "                   Light_Conditions           District Area  Longitude  \\\n",
       "0             Darkness - lights lit  Kensington and Chelsea  -0.209082   \n",
       "1                          Daylight  Kensington and Chelsea  -0.173647   \n",
       "2       Darkness - lighting unknown  Kensington and Chelsea  -0.210215   \n",
       "3                          Daylight  Kensington and Chelsea  -0.202731   \n",
       "4             Darkness - lights lit  Kensington and Chelsea  -0.192487   \n",
       "...                             ...                     ...        ...   \n",
       "660674                     Daylight                Highland  -3.467828   \n",
       "660675       Darkness - no lighting                Highland  -3.809281   \n",
       "660676                     Daylight                Highland  -3.862727   \n",
       "660677       Darkness - no lighting                Highland  -3.823997   \n",
       "660678                     Daylight                Highland  -3.895673   \n",
       "\n",
       "        Number_of_Casualties  Number_of_Vehicles Road_Surface_Conditions  \\\n",
       "0                          1                   2                     Dry   \n",
       "1                          1                   2             Wet or damp   \n",
       "2                          1                   3                     Dry   \n",
       "3                          1                   4                     Dry   \n",
       "4                          1                   2                     Dry   \n",
       "...                      ...                 ...                     ...   \n",
       "660674                     2                   1                     Dry   \n",
       "660675                     1                   1            Frost or ice   \n",
       "660676                     1                   3            Frost or ice   \n",
       "660677                     1                   2             Wet or damp   \n",
       "660678                     1                   1             Wet or damp   \n",
       "\n",
       "                 Road_Type Urban_or_Rural_Area     Weather_Conditions  \\\n",
       "0       Single carriageway               Urban     Fine no high winds   \n",
       "1       Single carriageway               Urban  Raining no high winds   \n",
       "2                      NaN               Urban                    NaN   \n",
       "3       Single carriageway               Urban     Fine no high winds   \n",
       "4                      NaN               Urban                    NaN   \n",
       "...                    ...                 ...                    ...   \n",
       "660674  Single carriageway               Rural     Fine no high winds   \n",
       "660675  Single carriageway               Rural     Fine no high winds   \n",
       "660676  Single carriageway               Rural     Fine no high winds   \n",
       "660677  Single carriageway               Rural     Fine no high winds   \n",
       "660678    Dual carriageway               Rural  Snowing no high winds   \n",
       "\n",
       "                                Vehicle_Type  \n",
       "0                                        Car  \n",
       "1                                        Car  \n",
       "2                      Taxi/Private hire car  \n",
       "3       Bus or coach (17 or more pass seats)  \n",
       "4                              Other vehicle  \n",
       "...                                      ...  \n",
       "660674                                   Car  \n",
       "660675                                   Car  \n",
       "660676                                   Car  \n",
       "660677                 Motorcycle over 500cc  \n",
       "660678                                   Car  \n",
       "\n",
       "[660679 rows x 14 columns]"
      ]
     },
     "execution_count": 86,
     "metadata": {},
     "output_type": "execute_result"
    }
   ],
   "source": [
    "accident"
   ]
  },
  {
   "cell_type": "code",
   "execution_count": 87,
   "id": "acc7e6c4-db76-413e-8444-07cdfecce030",
   "metadata": {},
   "outputs": [
    {
     "data": {
      "text/html": [
       "<div>\n",
       "<style scoped>\n",
       "    .dataframe tbody tr th:only-of-type {\n",
       "        vertical-align: middle;\n",
       "    }\n",
       "\n",
       "    .dataframe tbody tr th {\n",
       "        vertical-align: top;\n",
       "    }\n",
       "\n",
       "    .dataframe thead th {\n",
       "        text-align: right;\n",
       "    }\n",
       "</style>\n",
       "<table border=\"1\" class=\"dataframe\">\n",
       "  <thead>\n",
       "    <tr style=\"text-align: right;\">\n",
       "      <th></th>\n",
       "      <th>Latitude</th>\n",
       "      <th>Longitude</th>\n",
       "      <th>Number_of_Casualties</th>\n",
       "      <th>Number_of_Vehicles</th>\n",
       "    </tr>\n",
       "  </thead>\n",
       "  <tbody>\n",
       "    <tr>\n",
       "      <th>count</th>\n",
       "      <td>660654.000000</td>\n",
       "      <td>660653.000000</td>\n",
       "      <td>660679.000000</td>\n",
       "      <td>660679.000000</td>\n",
       "    </tr>\n",
       "    <tr>\n",
       "      <th>mean</th>\n",
       "      <td>52.553866</td>\n",
       "      <td>-1.431210</td>\n",
       "      <td>1.357040</td>\n",
       "      <td>1.831255</td>\n",
       "    </tr>\n",
       "    <tr>\n",
       "      <th>std</th>\n",
       "      <td>1.406922</td>\n",
       "      <td>1.383330</td>\n",
       "      <td>0.824847</td>\n",
       "      <td>0.715269</td>\n",
       "    </tr>\n",
       "    <tr>\n",
       "      <th>min</th>\n",
       "      <td>49.914430</td>\n",
       "      <td>-7.516225</td>\n",
       "      <td>1.000000</td>\n",
       "      <td>1.000000</td>\n",
       "    </tr>\n",
       "    <tr>\n",
       "      <th>25%</th>\n",
       "      <td>51.490690</td>\n",
       "      <td>-2.332291</td>\n",
       "      <td>1.000000</td>\n",
       "      <td>1.000000</td>\n",
       "    </tr>\n",
       "    <tr>\n",
       "      <th>50%</th>\n",
       "      <td>52.315641</td>\n",
       "      <td>-1.411667</td>\n",
       "      <td>1.000000</td>\n",
       "      <td>2.000000</td>\n",
       "    </tr>\n",
       "    <tr>\n",
       "      <th>75%</th>\n",
       "      <td>53.453452</td>\n",
       "      <td>-0.232869</td>\n",
       "      <td>1.000000</td>\n",
       "      <td>2.000000</td>\n",
       "    </tr>\n",
       "    <tr>\n",
       "      <th>max</th>\n",
       "      <td>60.757544</td>\n",
       "      <td>1.762010</td>\n",
       "      <td>68.000000</td>\n",
       "      <td>32.000000</td>\n",
       "    </tr>\n",
       "  </tbody>\n",
       "</table>\n",
       "</div>"
      ],
      "text/plain": [
       "            Latitude      Longitude  Number_of_Casualties  Number_of_Vehicles\n",
       "count  660654.000000  660653.000000         660679.000000       660679.000000\n",
       "mean       52.553866      -1.431210              1.357040            1.831255\n",
       "std         1.406922       1.383330              0.824847            0.715269\n",
       "min        49.914430      -7.516225              1.000000            1.000000\n",
       "25%        51.490690      -2.332291              1.000000            1.000000\n",
       "50%        52.315641      -1.411667              1.000000            2.000000\n",
       "75%        53.453452      -0.232869              1.000000            2.000000\n",
       "max        60.757544       1.762010             68.000000           32.000000"
      ]
     },
     "execution_count": 87,
     "metadata": {},
     "output_type": "execute_result"
    }
   ],
   "source": [
    "accident.describe()"
   ]
  },
  {
   "cell_type": "code",
   "execution_count": 88,
   "id": "d2692f96-7766-405c-b573-3551bd1b023d",
   "metadata": {},
   "outputs": [
    {
     "name": "stdout",
     "output_type": "stream",
     "text": [
      "<class 'pandas.core.frame.DataFrame'>\n",
      "RangeIndex: 660679 entries, 0 to 660678\n",
      "Data columns (total 14 columns):\n",
      " #   Column                   Non-Null Count   Dtype  \n",
      "---  ------                   --------------   -----  \n",
      " 0   Index                    660679 non-null  object \n",
      " 1   Accident_Severity        660679 non-null  object \n",
      " 2   Accident Date            660679 non-null  object \n",
      " 3   Latitude                 660654 non-null  float64\n",
      " 4   Light_Conditions         660679 non-null  object \n",
      " 5   District Area            660679 non-null  object \n",
      " 6   Longitude                660653 non-null  float64\n",
      " 7   Number_of_Casualties     660679 non-null  int64  \n",
      " 8   Number_of_Vehicles       660679 non-null  int64  \n",
      " 9   Road_Surface_Conditions  659953 non-null  object \n",
      " 10  Road_Type                656159 non-null  object \n",
      " 11  Urban_or_Rural_Area      660664 non-null  object \n",
      " 12  Weather_Conditions       646551 non-null  object \n",
      " 13  Vehicle_Type             660679 non-null  object \n",
      "dtypes: float64(2), int64(2), object(10)\n",
      "memory usage: 70.6+ MB\n"
     ]
    }
   ],
   "source": [
    "accident.info()"
   ]
  },
  {
   "cell_type": "code",
   "execution_count": 132,
   "id": "c1cf7a32-e19c-4bcd-a033-8a094c031b1b",
   "metadata": {},
   "outputs": [],
   "source": [
    "for column in[\"Accident_Severity\",\"Latitude\", \"Light_Conditions\", \"District Area\", \n",
    "           \"Longitude\", \"Road_Surface_Conditions\", \"Road_Type\", \"Urban_or_Rural_Area\",\n",
    "          \"Weather_Conditions\", \"Vehicle_Type\"]:\n",
    "    accident[column] = accident[column].astype('category')\n",
    "\n",
    "accident['Accident Date'] = pd.to_datetime(accident['Accident Date'], dayfirst = True, errors = \"coerce\")"
   ]
  },
  {
   "cell_type": "code",
   "execution_count": 133,
   "id": "2419b72d-b814-4444-a8dd-0fb3e7bf1cfc",
   "metadata": {},
   "outputs": [
    {
     "data": {
      "text/plain": [
       "Index                           0\n",
       "Accident_Severity               0\n",
       "Accident Date              395672\n",
       "Latitude                        0\n",
       "Light_Conditions                0\n",
       "District Area                   0\n",
       "Longitude                       0\n",
       "Number_of_Casualties            0\n",
       "Number_of_Vehicles              0\n",
       "Road_Surface_Conditions         0\n",
       "Road_Type                       0\n",
       "Urban_or_Rural_Area             0\n",
       "Weather_Conditions          14128\n",
       "Vehicle_Type                    0\n",
       "dtype: int64"
      ]
     },
     "execution_count": 133,
     "metadata": {},
     "output_type": "execute_result"
    }
   ],
   "source": [
    "accident.isnull().sum()"
   ]
  },
  {
   "cell_type": "code",
   "execution_count": 134,
   "id": "57f81ea0-a5f4-407f-9070-c3ee6723ccaa",
   "metadata": {},
   "outputs": [],
   "source": [
    "accident['Latitude'] = accident['Latitude'].fillna(accident['Latitude'].mode()[0])\n",
    "accident['Longitude'] = accident['Longitude'].fillna(accident['Longitude'].mode()[0])\n",
    "accident['Road_Surface_Conditions'] = accident['Road_Surface_Conditions'].fillna(accident['Road_Surface_Conditions'].mode()[0])\n",
    "accident['Road_Type'] = accident['Road_Type'].fillna(accident['Road_Type'].mode()[0])\n",
    "accident['Urban_or_Rural_Area'] = accident['Urban_or_Rural_Area'].fillna(accident['Urban_or_Rural_Area'].mode()[0])"
   ]
  },
  {
   "cell_type": "markdown",
   "id": "656feb45-9b42-4620-b0e8-4ad3f5b25272",
   "metadata": {},
   "source": [
    "<h1 style=\"color:#2596be\">Insight No. 1</h1>\n",
    "<h2 style=\"color:pink\">which of the road types has the highest number of accidents?</h2>\n",
    "<h3>The road with the highest percentage of accident is the \"single carriageway\" which is 63.50% of all severities and road types</h3>"
   ]
  },
  {
   "cell_type": "code",
   "execution_count": 92,
   "id": "97330629-e0d1-4119-a19f-c22faa390a0a",
   "metadata": {},
   "outputs": [],
   "source": [
    "road_serverity = accident.groupby([\"Road_Type\", \"Accident_Severity\"]).size()"
   ]
  },
  {
   "cell_type": "code",
   "execution_count": 93,
   "id": "68407c93-428d-47e3-958f-13cd5be27fd1",
   "metadata": {},
   "outputs": [
    {
     "data": {
      "text/html": [
       "<div>\n",
       "<style scoped>\n",
       "    .dataframe tbody tr th:only-of-type {\n",
       "        vertical-align: middle;\n",
       "    }\n",
       "\n",
       "    .dataframe tbody tr th {\n",
       "        vertical-align: top;\n",
       "    }\n",
       "\n",
       "    .dataframe thead th {\n",
       "        text-align: right;\n",
       "    }\n",
       "</style>\n",
       "<table border=\"1\" class=\"dataframe\">\n",
       "  <thead>\n",
       "    <tr style=\"text-align: right;\">\n",
       "      <th>Accident_Severity</th>\n",
       "      <th>Fatal</th>\n",
       "      <th>Serious</th>\n",
       "      <th>Slight</th>\n",
       "    </tr>\n",
       "    <tr>\n",
       "      <th>Road_Type</th>\n",
       "      <th></th>\n",
       "      <th></th>\n",
       "      <th></th>\n",
       "    </tr>\n",
       "  </thead>\n",
       "  <tbody>\n",
       "    <tr>\n",
       "      <th>Dual carriageway</th>\n",
       "      <td>1815</td>\n",
       "      <td>11746</td>\n",
       "      <td>85863</td>\n",
       "    </tr>\n",
       "    <tr>\n",
       "      <th>One way street</th>\n",
       "      <td>95</td>\n",
       "      <td>1655</td>\n",
       "      <td>11809</td>\n",
       "    </tr>\n",
       "    <tr>\n",
       "      <th>Roundabout</th>\n",
       "      <td>142</td>\n",
       "      <td>3665</td>\n",
       "      <td>40185</td>\n",
       "    </tr>\n",
       "    <tr>\n",
       "      <th>Single carriageway</th>\n",
       "      <td>6560</td>\n",
       "      <td>70540</td>\n",
       "      <td>419563</td>\n",
       "    </tr>\n",
       "    <tr>\n",
       "      <th>Slip road</th>\n",
       "      <td>49</td>\n",
       "      <td>611</td>\n",
       "      <td>6381</td>\n",
       "    </tr>\n",
       "  </tbody>\n",
       "</table>\n",
       "</div>"
      ],
      "text/plain": [
       "Accident_Severity   Fatal  Serious  Slight\n",
       "Road_Type                                 \n",
       "Dual carriageway     1815    11746   85863\n",
       "One way street         95     1655   11809\n",
       "Roundabout            142     3665   40185\n",
       "Single carriageway   6560    70540  419563\n",
       "Slip road              49      611    6381"
      ]
     },
     "execution_count": 93,
     "metadata": {},
     "output_type": "execute_result"
    }
   ],
   "source": [
    "road_serverity.unstack()"
   ]
  },
  {
   "cell_type": "markdown",
   "id": "0beb35a8-cb50-4d0f-be3c-fcbc2c52beeb",
   "metadata": {},
   "source": [
    "<h1 style=\"color:#2596be\">Insight No. 2</h1>\n",
    "<h2 style=\"color:pink\">What is the average number of casualties? </h2>\n",
    "<h3>The average number of casualties is 1.4 </h3>"
   ]
  },
  {
   "cell_type": "code",
   "execution_count": 95,
   "id": "7046059f-3a11-4853-bb2f-52e2553bb048",
   "metadata": {},
   "outputs": [],
   "source": [
    "avg_casualties = np.round(accident['Number_of_Casualties'].mean(), 1)"
   ]
  },
  {
   "cell_type": "code",
   "execution_count": 96,
   "id": "a37162df-3d9d-464f-8afa-5c7ab6faf285",
   "metadata": {},
   "outputs": [
    {
     "data": {
      "text/plain": [
       "np.float64(1.4)"
      ]
     },
     "execution_count": 96,
     "metadata": {},
     "output_type": "execute_result"
    }
   ],
   "source": [
    "avg_casualties"
   ]
  },
  {
   "cell_type": "markdown",
   "id": "633fd691-3f29-4972-8be0-54873af98017",
   "metadata": {},
   "source": [
    "<h1 style=\"color:#2596be\">Insight No. 3</h1>\n",
    "<h2 style=\"color:pink\">Which area have higher number of accidents? Urban vs. Rural</h2>\n",
    "<h3>The Urban has the higher number of accidents than Rural</h3>"
   ]
  },
  {
   "cell_type": "code",
   "execution_count": 94,
   "id": "c69c94b5-8d89-4447-82a7-ce76963c6fc4",
   "metadata": {},
   "outputs": [
    {
     "data": {
      "text/plain": [
       "Urban_or_Rural_Area\n",
       "Urban          421678\n",
       "Rural          238990\n",
       "Unallocated        11\n",
       "Name: count, dtype: int64"
      ]
     },
     "execution_count": 94,
     "metadata": {},
     "output_type": "execute_result"
    }
   ],
   "source": [
    "accident[\"Urban_or_Rural_Area\"].value_counts()"
   ]
  },
  {
   "cell_type": "markdown",
   "id": "116467a4-8a42-4d51-ab08-338c088f9554",
   "metadata": {},
   "source": [
    "<h1 style=\"color:#2596be\">Insight No. 4</h1>\n",
    "<h2 style=\"color:pink\">What is the most common accident severity ? </h2>\n",
    "<h3>The most common accident severity is 'Slight'</h3>"
   ]
  },
  {
   "cell_type": "code",
   "execution_count": 99,
   "id": "8dcac6ad-42f5-4804-9332-19764540a3ca",
   "metadata": {},
   "outputs": [],
   "source": [
    "avg_severity = accident['Accident_Severity'].mode()[0]"
   ]
  },
  {
   "cell_type": "code",
   "execution_count": 100,
   "id": "2dcb404f-289b-4d10-b712-423806375cb8",
   "metadata": {},
   "outputs": [
    {
     "data": {
      "text/plain": [
       "'Slight'"
      ]
     },
     "execution_count": 100,
     "metadata": {},
     "output_type": "execute_result"
    }
   ],
   "source": [
    "avg_severity"
   ]
  },
  {
   "cell_type": "markdown",
   "id": "83f28622-e0f2-45d5-aafe-78ac6c80a76f",
   "metadata": {},
   "source": [
    "<h1 style=\"color:#2596be\">Insight No. 5</h1>\n",
    "<h2 style=\"color:pink\">What is the average number of vehicles in an accident? </h2>\n",
    "<h3>The average number of vehicles in an accident is 1.8 </h3>"
   ]
  },
  {
   "cell_type": "code",
   "execution_count": 97,
   "id": "1f91f23a-8f0b-49b1-99c9-b95c38c17119",
   "metadata": {},
   "outputs": [],
   "source": [
    "avg_vehicles = np.round(accident['Number_of_Vehicles'].mean(), 1)"
   ]
  },
  {
   "cell_type": "code",
   "execution_count": 98,
   "id": "986903a9-f34a-42bd-90df-b192fd411b4d",
   "metadata": {},
   "outputs": [
    {
     "data": {
      "text/plain": [
       "np.float64(1.8)"
      ]
     },
     "execution_count": 98,
     "metadata": {},
     "output_type": "execute_result"
    }
   ],
   "source": [
    "avg_vehicles"
   ]
  },
  {
   "cell_type": "markdown",
   "id": "dba9d9db-ad5d-4d9b-98b2-3dc250ad5377",
   "metadata": {},
   "source": [
    "<h1 style=\"color:#2596be\">Insight No. 6</h1>\n",
    "<h2 style=\"color:pink\">In which area has the has the higher number of casualties?</h2>\n",
    "<h3>Urban area has a higher number of casualties</h3>"
   ]
  },
  {
   "cell_type": "code",
   "execution_count": 101,
   "id": "bab0bb3d-a6e3-4941-abe3-f0312f108461",
   "metadata": {},
   "outputs": [],
   "source": [
    "area_casualties = accident.groupby('Urban_or_Rural_Area')['Number_of_Casualties'].sum()"
   ]
  },
  {
   "cell_type": "code",
   "execution_count": 102,
   "id": "91c34d31-868a-404d-a364-6c608522978c",
   "metadata": {},
   "outputs": [
    {
     "data": {
      "text/plain": [
       "Urban_or_Rural_Area\n",
       "Rural          353515\n",
       "Unallocated        13\n",
       "Urban          543040\n",
       "Name: Number_of_Casualties, dtype: int64"
      ]
     },
     "execution_count": 102,
     "metadata": {},
     "output_type": "execute_result"
    }
   ],
   "source": [
    "area_casualties"
   ]
  },
  {
   "cell_type": "markdown",
   "id": "dc6eaf33-31c6-4d81-b1e9-ca13151bedc0",
   "metadata": {},
   "source": [
    "<h1 style=\"color:#2596be\">Insight No. 7</h1>\n",
    "<h2 style=\"color:pink\">On which light conditions has the highest number of accident?</h2>\n",
    "<h3>Daylight has the highest number of accidents</h3>"
   ]
  },
  {
   "cell_type": "code",
   "execution_count": 135,
   "id": "cfa20033-2857-40f2-97ae-68a868b27c06",
   "metadata": {},
   "outputs": [],
   "source": [
    "lightcon_accidents = accident['Light_Conditions'].value_counts()"
   ]
  },
  {
   "cell_type": "code",
   "execution_count": 136,
   "id": "404b4ba4-83a5-47f0-8df6-7a54ae3a363a",
   "metadata": {},
   "outputs": [
    {
     "data": {
      "text/plain": [
       "Light_Conditions\n",
       "Daylight                       484880\n",
       "Darkness - lights lit          129335\n",
       "Darkness - no lighting          37437\n",
       "Darkness - lighting unknown      6484\n",
       "Darkness - lights unlit          2543\n",
       "Name: count, dtype: int64"
      ]
     },
     "execution_count": 136,
     "metadata": {},
     "output_type": "execute_result"
    }
   ],
   "source": [
    "lightcon_accidents"
   ]
  },
  {
   "cell_type": "markdown",
   "id": "e9ae0296-69af-4782-83e8-27aa967e7905",
   "metadata": {},
   "source": [
    "<h1 style=\"color:#2596be\">Insight No. 8</h1>\n",
    "<h2 style=\"color:pink\">On which weather conditions has the highest number of accident?</h2>\n",
    "<h3>Fine no high winds has the highest number of accidents</h3>"
   ]
  },
  {
   "cell_type": "code",
   "execution_count": 105,
   "id": "4b6188e3-d115-4d8b-99af-fe8afbd58694",
   "metadata": {},
   "outputs": [],
   "source": [
    "weatherCdt_accidents = accident['Weather_Conditions'].value_counts()"
   ]
  },
  {
   "cell_type": "code",
   "execution_count": 106,
   "id": "4949667d-591a-42fd-bb76-bc8b561196d4",
   "metadata": {},
   "outputs": [
    {
     "data": {
      "text/plain": [
       "Weather_Conditions\n",
       "Fine no high winds       520885\n",
       "Raining no high winds     79696\n",
       "Other                     17150\n",
       "Raining + high winds       9615\n",
       "Fine + high winds          8554\n",
       "Snowing no high winds      6238\n",
       "Fog or mist                3528\n",
       "Snowing + high winds        885\n",
       "Name: count, dtype: int64"
      ]
     },
     "execution_count": 106,
     "metadata": {},
     "output_type": "execute_result"
    }
   ],
   "source": [
    "weatherCdt_accidents"
   ]
  },
  {
   "cell_type": "markdown",
   "id": "69982abb-8ddd-41a6-8d90-641926c97860",
   "metadata": {},
   "source": [
    "<h1 style=\"color:#2596be\">Insight No. 9</h1>\n",
    "<h2 style=\"color:pink\">What road type has the highest number of accident?</h2>\n",
    "<h3>The road type that has the highest accident is the single carriageway</h3>"
   ]
  },
  {
   "cell_type": "code",
   "execution_count": 107,
   "id": "014a8c20-4922-4ce9-9bcc-0cd43984077f",
   "metadata": {},
   "outputs": [],
   "source": [
    "roadtype_accidents = accident['Road_Type'].value_counts()"
   ]
  },
  {
   "cell_type": "code",
   "execution_count": 108,
   "id": "9dd1a7ae-3590-4596-9927-83926dd00c37",
   "metadata": {},
   "outputs": [
    {
     "data": {
      "text/plain": [
       "Road_Type\n",
       "Single carriageway    496663\n",
       "Dual carriageway       99424\n",
       "Roundabout             43992\n",
       "One way street         13559\n",
       "Slip road               7041\n",
       "Name: count, dtype: int64"
      ]
     },
     "execution_count": 108,
     "metadata": {},
     "output_type": "execute_result"
    }
   ],
   "source": [
    "roadtype_accidents"
   ]
  },
  {
   "cell_type": "markdown",
   "id": "e91b7160-000d-4ec4-a6db-4e020d4abe02",
   "metadata": {},
   "source": [
    "<h1 style=\"color:#2596be\">Insight No. 10</h1>\n",
    "<h2 style=\"color:pink\">What road surface conditions has the highest number of accident?</h2>\n",
    "<h3>The road surface conditions that has the highest accident is a dry surface.</h3>"
   ]
  },
  {
   "cell_type": "code",
   "execution_count": 109,
   "id": "fd29f245-1848-4dbc-bbc7-671cec75cd81",
   "metadata": {},
   "outputs": [],
   "source": [
    "roadsurface_accidents = accident['Road_Surface_Conditions'].value_counts()"
   ]
  },
  {
   "cell_type": "code",
   "execution_count": 110,
   "id": "60ceabe5-b42f-4552-94a2-866a60ec8d99",
   "metadata": {},
   "outputs": [
    {
     "data": {
      "text/plain": [
       "Road_Surface_Conditions\n",
       "Dry                     448547\n",
       "Wet or damp             186708\n",
       "Frost or ice             18517\n",
       "Snow                      5890\n",
       "Flood over 3cm. deep      1017\n",
       "Name: count, dtype: int64"
      ]
     },
     "execution_count": 110,
     "metadata": {},
     "output_type": "execute_result"
    }
   ],
   "source": [
    "roadsurface_accidents"
   ]
  },
  {
   "cell_type": "markdown",
   "id": "ee716773-93fa-4fb7-92fb-54c65a6f0d4e",
   "metadata": {},
   "source": [
    "<h1 style=\"color:#2596be\">Insight No. 11</h1>\n",
    "<h2 style=\"color:pink\">What is the average number of casualties for each level of severity?</h2>\n",
    "<h3>The average number of casualties for fatal accidents is 1.9, for the serious is 1.5 , and for the slight is 1.3.</h3>"
   ]
  },
  {
   "cell_type": "code",
   "execution_count": 111,
   "id": "dc00c5aa-2733-476d-aa32-172a0edb6f34",
   "metadata": {},
   "outputs": [],
   "source": [
    "avg_casualties_per_severity = np.round(accident.groupby('Accident_Severity')['Number_of_Casualties'].mean(), 1)"
   ]
  },
  {
   "cell_type": "code",
   "execution_count": 112,
   "id": "bb0d1bd5-e49c-4387-bd56-5a2fdf02b6a9",
   "metadata": {},
   "outputs": [
    {
     "data": {
      "text/plain": [
       "Accident_Severity\n",
       "Fatal      1.9\n",
       "Serious    1.5\n",
       "Slight     1.3\n",
       "Name: Number_of_Casualties, dtype: float64"
      ]
     },
     "execution_count": 112,
     "metadata": {},
     "output_type": "execute_result"
    }
   ],
   "source": [
    "avg_casualties_per_severity"
   ]
  },
  {
   "cell_type": "markdown",
   "id": "9320c8d1-7aba-41f2-98fc-b25d37be24e1",
   "metadata": {},
   "source": [
    "<h1 style=\"color:#2596be\">Insight No. 12</h1>\n",
    "<h2 style=\"color:pink\">What is the average number of casualties in the urban, rural and unallocated areas?</h2>\n",
    "<h3>The average number of casualties for rural area accidents is 1.5, for the urban area is 1.3 , and for unallocated areas is 1.2.</h3>"
   ]
  },
  {
   "cell_type": "code",
   "execution_count": 113,
   "id": "31a2b831-ef97-4a35-8d14-ff8d76461844",
   "metadata": {},
   "outputs": [],
   "source": [
    "avg_casualties_per_area = np.round(accident.groupby('Urban_or_Rural_Area')['Number_of_Casualties'].mean(), 1)"
   ]
  },
  {
   "cell_type": "code",
   "execution_count": 114,
   "id": "3717bbc7-e575-4f3b-b401-855a63348bff",
   "metadata": {},
   "outputs": [
    {
     "data": {
      "text/plain": [
       "Urban_or_Rural_Area\n",
       "Rural          1.5\n",
       "Unallocated    1.2\n",
       "Urban          1.3\n",
       "Name: Number_of_Casualties, dtype: float64"
      ]
     },
     "execution_count": 114,
     "metadata": {},
     "output_type": "execute_result"
    }
   ],
   "source": [
    "avg_casualties_per_area"
   ]
  },
  {
   "cell_type": "markdown",
   "id": "743b7970-86b6-4d18-a852-7b520d4734b8",
   "metadata": {},
   "source": [
    "<h1 style=\"color:#2596be\">Insight No. 13</h1>\n",
    "<h2 style=\"color:pink\">Each weather conditions average number of casualties</h2>\n",
    "<h3>(Fine with no winds, fine with high winds, raining with high winds, raining with no winds, snowing with high winds, and other weather conditions) have an average of 1.4 casualties, then (snowing with no high winds) has an average of 1.3 casualties, while (fog or mist) has 1.5 casualties.</h3>"
   ]
  },
  {
   "cell_type": "code",
   "execution_count": 115,
   "id": "991b8167-bfb6-4d99-b96f-dd5389da2b29",
   "metadata": {},
   "outputs": [],
   "source": [
    "avg_casualties_per_weather = np.round(accident.groupby('Weather_Conditions')['Number_of_Casualties'].mean(), 1)"
   ]
  },
  {
   "cell_type": "code",
   "execution_count": 116,
   "id": "7f1975c1-f8d3-4bab-9ef3-11c9cc8fbdaa",
   "metadata": {},
   "outputs": [
    {
     "data": {
      "text/plain": [
       "Weather_Conditions\n",
       "Fine + high winds        1.4\n",
       "Fine no high winds       1.4\n",
       "Fog or mist              1.5\n",
       "Other                    1.4\n",
       "Raining + high winds     1.4\n",
       "Raining no high winds    1.4\n",
       "Snowing + high winds     1.4\n",
       "Snowing no high winds    1.3\n",
       "Name: Number_of_Casualties, dtype: float64"
      ]
     },
     "execution_count": 116,
     "metadata": {},
     "output_type": "execute_result"
    }
   ],
   "source": [
    "avg_casualties_per_weather"
   ]
  },
  {
   "cell_type": "markdown",
   "id": "86f58938-577d-47a6-a07e-19d5c1e01203",
   "metadata": {},
   "source": [
    "<h1 style=\"color:#2596be\">Insight No. 14</h1>\n",
    "<h2 style=\"color:pink\">In which road area has the higher number of accidents?</h2>\n",
    "<h3>Urban roads have a higher accidents than roads in rural areas.</h3>"
   ]
  },
  {
   "cell_type": "code",
   "execution_count": 117,
   "id": "be0c1d43-d285-4917-850f-ba892d55152b",
   "metadata": {},
   "outputs": [],
   "source": [
    "accidents_per_area_road = accident.groupby(['Urban_or_Rural_Area', 'Road_Type']).size().unstack().T"
   ]
  },
  {
   "cell_type": "code",
   "execution_count": 118,
   "id": "6a39788b-b27c-460b-8cab-2c3a9448d2e2",
   "metadata": {},
   "outputs": [
    {
     "data": {
      "text/html": [
       "<div>\n",
       "<style scoped>\n",
       "    .dataframe tbody tr th:only-of-type {\n",
       "        vertical-align: middle;\n",
       "    }\n",
       "\n",
       "    .dataframe tbody tr th {\n",
       "        vertical-align: top;\n",
       "    }\n",
       "\n",
       "    .dataframe thead th {\n",
       "        text-align: right;\n",
       "    }\n",
       "</style>\n",
       "<table border=\"1\" class=\"dataframe\">\n",
       "  <thead>\n",
       "    <tr style=\"text-align: right;\">\n",
       "      <th>Urban_or_Rural_Area</th>\n",
       "      <th>Rural</th>\n",
       "      <th>Unallocated</th>\n",
       "      <th>Urban</th>\n",
       "    </tr>\n",
       "    <tr>\n",
       "      <th>Road_Type</th>\n",
       "      <th></th>\n",
       "      <th></th>\n",
       "      <th></th>\n",
       "    </tr>\n",
       "  </thead>\n",
       "  <tbody>\n",
       "    <tr>\n",
       "      <th>Dual carriageway</th>\n",
       "      <td>48715</td>\n",
       "      <td>1</td>\n",
       "      <td>50708</td>\n",
       "    </tr>\n",
       "    <tr>\n",
       "      <th>One way street</th>\n",
       "      <td>1193</td>\n",
       "      <td>0</td>\n",
       "      <td>12366</td>\n",
       "    </tr>\n",
       "    <tr>\n",
       "      <th>Roundabout</th>\n",
       "      <td>15545</td>\n",
       "      <td>1</td>\n",
       "      <td>28446</td>\n",
       "    </tr>\n",
       "    <tr>\n",
       "      <th>Single carriageway</th>\n",
       "      <td>169243</td>\n",
       "      <td>9</td>\n",
       "      <td>327411</td>\n",
       "    </tr>\n",
       "    <tr>\n",
       "      <th>Slip road</th>\n",
       "      <td>4294</td>\n",
       "      <td>0</td>\n",
       "      <td>2747</td>\n",
       "    </tr>\n",
       "  </tbody>\n",
       "</table>\n",
       "</div>"
      ],
      "text/plain": [
       "Urban_or_Rural_Area   Rural  Unallocated   Urban\n",
       "Road_Type                                       \n",
       "Dual carriageway      48715            1   50708\n",
       "One way street         1193            0   12366\n",
       "Roundabout            15545            1   28446\n",
       "Single carriageway   169243            9  327411\n",
       "Slip road              4294            0    2747"
      ]
     },
     "execution_count": 118,
     "metadata": {},
     "output_type": "execute_result"
    }
   ],
   "source": [
    "accidents_per_area_road"
   ]
  },
  {
   "cell_type": "markdown",
   "id": "2e6b69f7-71a2-4f33-8f8c-823bd2b9fd74",
   "metadata": {},
   "source": [
    "<h1 style=\"color:#2596be\">Insight No. 15</h1>\n",
    "<h2 style=\"color:pink\">Which combinations of weather and light conditions result in the highest number of casualties?</h2>\n",
    "<h3>Daylight and fine with no high winds have the highest number of casualties.</h3>"
   ]
  },
  {
   "cell_type": "code",
   "execution_count": 119,
   "id": "521f5fca-1cf8-4883-a40f-a1473868be32",
   "metadata": {},
   "outputs": [],
   "source": [
    "casualties_by_weather_light = accident.groupby(['Weather_Conditions', 'Light_Conditions'])['Number_of_Casualties'].sum().unstack()"
   ]
  },
  {
   "cell_type": "code",
   "execution_count": 120,
   "id": "c5410b9c-e538-426f-9911-7f3c5ed330b2",
   "metadata": {},
   "outputs": [
    {
     "data": {
      "text/html": [
       "<div>\n",
       "<style scoped>\n",
       "    .dataframe tbody tr th:only-of-type {\n",
       "        vertical-align: middle;\n",
       "    }\n",
       "\n",
       "    .dataframe tbody tr th {\n",
       "        vertical-align: top;\n",
       "    }\n",
       "\n",
       "    .dataframe thead th {\n",
       "        text-align: right;\n",
       "    }\n",
       "</style>\n",
       "<table border=\"1\" class=\"dataframe\">\n",
       "  <thead>\n",
       "    <tr style=\"text-align: right;\">\n",
       "      <th>Light_Conditions</th>\n",
       "      <th>Darkness - lighting unknown</th>\n",
       "      <th>Darkness - lights lit</th>\n",
       "      <th>Darkness - lights unlit</th>\n",
       "      <th>Darkness - no lighting</th>\n",
       "      <th>Daylight</th>\n",
       "    </tr>\n",
       "    <tr>\n",
       "      <th>Weather_Conditions</th>\n",
       "      <th></th>\n",
       "      <th></th>\n",
       "      <th></th>\n",
       "      <th></th>\n",
       "      <th></th>\n",
       "    </tr>\n",
       "  </thead>\n",
       "  <tbody>\n",
       "    <tr>\n",
       "      <th>Fine + high winds</th>\n",
       "      <td>82</td>\n",
       "      <td>2543</td>\n",
       "      <td>75</td>\n",
       "      <td>1213</td>\n",
       "      <td>7943</td>\n",
       "    </tr>\n",
       "    <tr>\n",
       "      <th>Fine no high winds</th>\n",
       "      <td>4903</td>\n",
       "      <td>125686</td>\n",
       "      <td>2251</td>\n",
       "      <td>38800</td>\n",
       "      <td>531805</td>\n",
       "    </tr>\n",
       "    <tr>\n",
       "      <th>Fog or mist</th>\n",
       "      <td>89</td>\n",
       "      <td>1323</td>\n",
       "      <td>48</td>\n",
       "      <td>1267</td>\n",
       "      <td>2399</td>\n",
       "    </tr>\n",
       "    <tr>\n",
       "      <th>Other</th>\n",
       "      <td>234</td>\n",
       "      <td>6535</td>\n",
       "      <td>177</td>\n",
       "      <td>2824</td>\n",
       "      <td>13466</td>\n",
       "    </tr>\n",
       "    <tr>\n",
       "      <th>Raining + high winds</th>\n",
       "      <td>147</td>\n",
       "      <td>4185</td>\n",
       "      <td>115</td>\n",
       "      <td>2173</td>\n",
       "      <td>7001</td>\n",
       "    </tr>\n",
       "    <tr>\n",
       "      <th>Raining no high winds</th>\n",
       "      <td>808</td>\n",
       "      <td>31563</td>\n",
       "      <td>620</td>\n",
       "      <td>9538</td>\n",
       "      <td>69700</td>\n",
       "    </tr>\n",
       "    <tr>\n",
       "      <th>Snowing + high winds</th>\n",
       "      <td>21</td>\n",
       "      <td>354</td>\n",
       "      <td>7</td>\n",
       "      <td>247</td>\n",
       "      <td>626</td>\n",
       "    </tr>\n",
       "    <tr>\n",
       "      <th>Snowing no high winds</th>\n",
       "      <td>119</td>\n",
       "      <td>2411</td>\n",
       "      <td>37</td>\n",
       "      <td>1129</td>\n",
       "      <td>4674</td>\n",
       "    </tr>\n",
       "  </tbody>\n",
       "</table>\n",
       "</div>"
      ],
      "text/plain": [
       "Light_Conditions       Darkness - lighting unknown  Darkness - lights lit  \\\n",
       "Weather_Conditions                                                          \n",
       "Fine + high winds                               82                   2543   \n",
       "Fine no high winds                            4903                 125686   \n",
       "Fog or mist                                     89                   1323   \n",
       "Other                                          234                   6535   \n",
       "Raining + high winds                           147                   4185   \n",
       "Raining no high winds                          808                  31563   \n",
       "Snowing + high winds                            21                    354   \n",
       "Snowing no high winds                          119                   2411   \n",
       "\n",
       "Light_Conditions       Darkness - lights unlit  Darkness - no lighting  \\\n",
       "Weather_Conditions                                                       \n",
       "Fine + high winds                           75                    1213   \n",
       "Fine no high winds                        2251                   38800   \n",
       "Fog or mist                                 48                    1267   \n",
       "Other                                      177                    2824   \n",
       "Raining + high winds                       115                    2173   \n",
       "Raining no high winds                      620                    9538   \n",
       "Snowing + high winds                         7                     247   \n",
       "Snowing no high winds                       37                    1129   \n",
       "\n",
       "Light_Conditions       Daylight  \n",
       "Weather_Conditions               \n",
       "Fine + high winds          7943  \n",
       "Fine no high winds       531805  \n",
       "Fog or mist                2399  \n",
       "Other                     13466  \n",
       "Raining + high winds       7001  \n",
       "Raining no high winds     69700  \n",
       "Snowing + high winds        626  \n",
       "Snowing no high winds      4674  "
      ]
     },
     "execution_count": 120,
     "metadata": {},
     "output_type": "execute_result"
    }
   ],
   "source": [
    "casualties_by_weather_light"
   ]
  },
  {
   "cell_type": "markdown",
   "id": "364abe40-5e8a-4ef5-a409-d56cc3d08516",
   "metadata": {},
   "source": [
    "<h1 style=\"color:#2596be\">Insight No. 16</h1>\n",
    "<h2 style=\"color:pink\">Does having more vehicles results to more casualties?</h2>\n",
    "<h3>No, having many vehicles doesn't lead to more casualties.</h3>\n",
    "<h3>The number of vehicles has no correlation with the number of casualties</h3>"
   ]
  },
  {
   "cell_type": "code",
   "execution_count": 121,
   "id": "b4b51aa6-7e3e-480f-b909-59c627834171",
   "metadata": {},
   "outputs": [],
   "source": [
    "vehicles_casualties_corr = accident['Number_of_Vehicles'].corr(accident['Number_of_Casualties'])"
   ]
  },
  {
   "cell_type": "code",
   "execution_count": 122,
   "id": "8688e99a-2a82-4be6-9075-fb9b4ce4254d",
   "metadata": {},
   "outputs": [
    {
     "data": {
      "text/plain": [
       "np.float64(0.22888886126927557)"
      ]
     },
     "execution_count": 122,
     "metadata": {},
     "output_type": "execute_result"
    }
   ],
   "source": [
    "vehicles_casualties_corr"
   ]
  },
  {
   "cell_type": "markdown",
   "id": "271f6ea9-6db0-4984-94f8-0f7eef1b614a",
   "metadata": {},
   "source": [
    "<h1 style=\"color:#2596be\">Insight No. 17</h1>\n",
    "<h2 style=\"color:pink\">What vehicle type has the highest number of accidents</h2>\n",
    "<h3>A car has the highest number of accidents</h3>"
   ]
  },
  {
   "cell_type": "code",
   "execution_count": 123,
   "id": "837e44c4-f00a-45a0-91bf-ebdf38315aa7",
   "metadata": {},
   "outputs": [],
   "source": [
    "vehicletype_accidents = accident['Vehicle_Type'].value_counts()"
   ]
  },
  {
   "cell_type": "code",
   "execution_count": 124,
   "id": "0a71a4b4-44c4-488b-bbfd-d960be8ae1b2",
   "metadata": {},
   "outputs": [
    {
     "data": {
      "text/plain": [
       "Vehicle_Type\n",
       "Car                                      497992\n",
       "Van / Goods 3.5 tonnes mgw or under       34160\n",
       "Bus or coach (17 or more pass seats)      25878\n",
       "Motorcycle over 500cc                     25657\n",
       "Goods 7.5 tonnes mgw and over             17307\n",
       "Motorcycle 125cc and under                15269\n",
       "Taxi/Private hire car                     13294\n",
       "Motorcycle over 125cc and up to 500cc      7656\n",
       "Motorcycle 50cc and under                  7603\n",
       "Goods over 3.5t. and under 7.5t            6096\n",
       "Other vehicle                              5637\n",
       "Minibus (8 - 16 passenger seats)           1976\n",
       "Agricultural vehicle                       1947\n",
       "Pedal cycle                                 197\n",
       "Data missing or out of range                  6\n",
       "Ridden horse                                  4\n",
       "Name: count, dtype: int64"
      ]
     },
     "execution_count": 124,
     "metadata": {},
     "output_type": "execute_result"
    }
   ],
   "source": [
    "vehicletype_accidents"
   ]
  },
  {
   "cell_type": "markdown",
   "id": "db502f52-bdee-4ad3-b50f-8ec8c886e3f1",
   "metadata": {},
   "source": [
    "<h1 style=\"color:#2596be\">Insight No. 18</h1>\n",
    "<h2 style=\"color:pink\">What district area has the highest number of accidents</h2>\n",
    "<h3>Birmingham has the highest number of accidents</h3>"
   ]
  },
  {
   "cell_type": "code",
   "execution_count": 125,
   "id": "5e9f74ce-75dd-46e0-88d9-65348c901041",
   "metadata": {},
   "outputs": [],
   "source": [
    "districtarea_accidents = accident['District Area'].value_counts()"
   ]
  },
  {
   "cell_type": "code",
   "execution_count": 126,
   "id": "4484c509-6d80-476a-a0d1-ce82e8a88833",
   "metadata": {},
   "outputs": [
    {
     "data": {
      "text/plain": [
       "District Area\n",
       "Birmingham            13491\n",
       "Leeds                  8898\n",
       "Manchester             6720\n",
       "Bradford               6212\n",
       "Sheffield              5710\n",
       "                      ...  \n",
       "Berwick-upon-Tweed      153\n",
       "Teesdale                142\n",
       "Shetland Islands        133\n",
       "Orkney Islands          117\n",
       "Clackmannanshire         91\n",
       "Name: count, Length: 422, dtype: int64"
      ]
     },
     "execution_count": 126,
     "metadata": {},
     "output_type": "execute_result"
    }
   ],
   "source": [
    "districtarea_accidents"
   ]
  },
  {
   "cell_type": "markdown",
   "id": "fef6a6bc-5ac7-4528-990d-336c38594bf1",
   "metadata": {},
   "source": [
    "<h1 style=\"color:#2596be\">Insight No. 19</h1>\n",
    "<h2 style=\"color:pink\">Which district area has the highest average number of casualties?</h2>\n",
    "<h3>Blaeu Gwent has the highest average number of casualties</h3>"
   ]
  },
  {
   "cell_type": "code",
   "execution_count": 127,
   "id": "8aee01bf-5b40-467d-a311-266e564e8990",
   "metadata": {},
   "outputs": [],
   "source": [
    "avg_casualties_per_district = np.round(accident.groupby('District Area')['Number_of_Casualties'].mean(), 1).sort_values(ascending = False)"
   ]
  },
  {
   "cell_type": "code",
   "execution_count": 128,
   "id": "1b5ab4a4-b875-4ca7-9272-d406d98fca81",
   "metadata": {},
   "outputs": [
    {
     "data": {
      "text/plain": [
       "District Area\n",
       "Blaeu Gwent                1.7\n",
       "Merthyr Tydfil             1.6\n",
       "North East Lincolnshire    1.6\n",
       "Blaenau Gwent              1.6\n",
       "Teesdale                   1.6\n",
       "                          ... \n",
       "Kensington and Chelsea     1.1\n",
       "Hammersmith and Fulham     1.1\n",
       "City of London             1.1\n",
       "Camden                     1.1\n",
       "Aberdeen City              1.1\n",
       "Name: Number_of_Casualties, Length: 422, dtype: float64"
      ]
     },
     "execution_count": 128,
     "metadata": {},
     "output_type": "execute_result"
    }
   ],
   "source": [
    "avg_casualties_per_district"
   ]
  },
  {
   "cell_type": "markdown",
   "id": "9b04c23c-ef11-40ec-bdec-cc0612140516",
   "metadata": {},
   "source": [
    "<h1 style=\"color:#2596be\">Insight No. 20</h1>\n",
    "<h2 style=\"color:pink\">Do different road surface conditions impact the number of casualties?</h2>\n",
    "<h3>The road surface conditions impact the number of casualties</h3>\n",
    "<h3>There is correlation between road surface condtions and number of casualties</h3>"
   ]
  },
  {
   "cell_type": "code",
   "execution_count": 129,
   "id": "37a24aa7-62b8-47fb-aa65-85f5703d4c48",
   "metadata": {},
   "outputs": [
    {
     "name": "stdout",
     "output_type": "stream",
     "text": [
      "5.097050919646033e-249\n"
     ]
    }
   ],
   "source": [
    "dry = accident[accident['Road_Surface_Conditions'] == 'Dry']['Number_of_Casualties']\n",
    "wet = accident[accident['Road_Surface_Conditions'] == 'Wet or damp']['Number_of_Casualties']\n",
    "f_stat, p_value = f_oneway(dry, wet)\n",
    "print(p_value)"
   ]
  }
 ],
 "metadata": {
  "kernelspec": {
   "display_name": "Python 3 (ipykernel)",
   "language": "python",
   "name": "python3"
  },
  "language_info": {
   "codemirror_mode": {
    "name": "ipython",
    "version": 3
   },
   "file_extension": ".py",
   "mimetype": "text/x-python",
   "name": "python",
   "nbconvert_exporter": "python",
   "pygments_lexer": "ipython3",
   "version": "3.13.0"
  }
 },
 "nbformat": 4,
 "nbformat_minor": 5
}
